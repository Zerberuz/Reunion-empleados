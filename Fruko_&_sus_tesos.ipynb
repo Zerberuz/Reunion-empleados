{
  "nbformat": 4,
  "nbformat_minor": 0,
  "metadata": {
    "colab": {
      "provenance": [],
      "authorship_tag": "ABX9TyN9Z/rWGPukKZ2X+74gmrsV",
      "include_colab_link": true
    },
    "kernelspec": {
      "name": "python3",
      "display_name": "Python 3"
    },
    "language_info": {
      "name": "python"
    }
  },
  "cells": [
    {
      "cell_type": "markdown",
      "metadata": {
        "id": "view-in-github",
        "colab_type": "text"
      },
      "source": [
        "<a href=\"https://colab.research.google.com/github/Zerberuz/Reunion-empleados/blob/main/Fruko_%26_sus_tesos.ipynb\" target=\"_parent\"><img src=\"https://colab.research.google.com/assets/colab-badge.svg\" alt=\"Open In Colab\"/></a>"
      ]
    },
    {
      "cell_type": "markdown",
      "source": [
        "\n",
        "Presentado por Camilo Ernesto Calderin Ogaza (camilo.calderino@upb.edu.co)\n",
        "ID:309762"
      ],
      "metadata": {
        "id": "u_nNWL6iHFmF"
      }
    },
    {
      "cell_type": "code",
      "source": [
        "from abc import ABC, abstractmethod\n",
        "\n",
        "class AbstractEmployee(ABC):\n",
        "    @abstractmethod\n",
        "    def say_id(self):\n",
        "        pass\n",
        "class User:\n",
        "    def __init__(self, username, role):\n",
        "        self.username = username\n",
        "        self.role = role\n",
        "    def say_user_info(self):\n",
        "        print(\"Username:\", self.username, \"- Role:\", self.role)\n",
        "class Employee(AbstractEmployee):\n",
        "    new_id = 1\n",
        "    def __init__(self):\n",
        "        self.id = Employee.new_id\n",
        "        Employee.new_id += 1\n",
        "        self.__company = \"Fruko y sus tesos\"\n",
        "        self._name = None\n",
        "    def say_id(self):\n",
        "        print(\"My id is\", self.id)\n",
        "    @property\n",
        "    def company(self):\n",
        "        return self.__company\n",
        "    @company.setter\n",
        "    def company(self, value):\n",
        "        self.__company = value\n",
        "    def get_name(self):\n",
        "        return self._name\n",
        "    def set_name(self, value):\n",
        "        self._name = value\n",
        "    def del_name(self):\n",
        "        del self._name\n",
        "class Admin(Employee, User):\n",
        "    def __init__(self, name):\n",
        "        Employee.__init__(self)\n",
        "        User.__init__(self, name, \"Admin\")\n",
        "    def say_id(self):\n",
        "        super().say_id()\n",
        "        print(\"I am an Admin\")\n",
        "class Manager(Admin):\n",
        "    def __init__(self, name):\n",
        "        super().__init__(name)\n",
        "    def say_id(self):\n",
        "        super().say_id()\n",
        "        print(\"I'm the boss\")\n",
        "class Meeting:\n",
        "    def __init__(self):\n",
        "        self.attendees = []\n",
        "    def __add__(self, other):\n",
        "        self.attendees.append(other)\n",
        "        print(f\"Employee {other.id} added successfully.\")\n",
        "    def __len__(self):\n",
        "        return len(self.attendees)\n",
        "e1 = Employee()\n",
        "e2 = Employee()\n",
        "e3 = Admin(\"3\")\n",
        "e4 = Manager(\"4\")\n",
        "m1 = Meeting()\n",
        "m1 + e1\n",
        "m1 + e2\n",
        "m1 + e3\n",
        "m1 + e4\n",
        "print(f\"# Attendees to the meeting: {len(m1)}\")\n",
        "e1.set_name(\"Joe Arroyo\")\n",
        "e2.set_name(\"Wilson Manyoma\")\n",
        "e3.set_name(\"Piper Pimienta\")\n",
        "e4.set_name(\"Fruko\")\n",
        "for e in m1.attendees:\n",
        "    print(f\"\\nMy name is {e.get_name()} and I work for {e._Employee__company}\")\n",
        "    e.say_id()\n",
        "    try:\n",
        "        e.say_user_info()\n",
        "    except AttributeError:\n",
        "        continue\n",
        "e1.del_name()"
      ],
      "metadata": {
        "colab": {
          "base_uri": "https://localhost:8080/"
        },
        "id": "ASa7HHME-0wS",
        "outputId": "b8302362-cfc4-456f-896a-3916d2567436"
      },
      "execution_count": 37,
      "outputs": [
        {
          "output_type": "stream",
          "name": "stdout",
          "text": [
            "Employee 1 added successfully.\n",
            "Employee 2 added successfully.\n",
            "Employee 3 added successfully.\n",
            "Employee 4 added successfully.\n",
            "# Attendees to the meeting: 4\n",
            "\n",
            "My name is Joe Arroyo and I work for Fruko y sus tesos\n",
            "My id is 1\n",
            "\n",
            "My name is Wilson Manyoma and I work for Fruko y sus tesos\n",
            "My id is 2\n",
            "\n",
            "My name is Piper Pimienta and I work for Fruko y sus tesos\n",
            "My id is 3\n",
            "I am an Admin\n",
            "Username: 3 - Role: Admin\n",
            "\n",
            "My name is Fruko and I work for Fruko y sus tesos\n",
            "My id is 4\n",
            "I am an Admin\n",
            "I'm the boss\n",
            "Username: 4 - Role: Admin\n"
          ]
        }
      ]
    }
  ]
}